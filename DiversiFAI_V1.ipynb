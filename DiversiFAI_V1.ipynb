{
  "nbformat": 4,
  "nbformat_minor": 0,
  "metadata": {
    "colab": {
      "provenance": []
    },
    "kernelspec": {
      "name": "python3",
      "display_name": "Python 3"
    },
    "language_info": {
      "name": "python"
    }
  },
  "cells": [
    {
      "cell_type": "code",
      "execution_count": null,
      "metadata": {
        "id": "DXNnB4Zzf8rK"
      },
      "outputs": [],
      "source": [
        "import os\n",
        "import zipfile\n",
        "\n",
        "# Define the zip file path and extraction directory\n",
        "zip_path = \"/content/drive/MyDrive/Colab Notebooks/DATA.zip\"\n",
        "extract_dir = \"/content/UTKFace\"\n",
        "\n",
        "# Extract if not already done\n",
        "if not os.path.exists(extract_dir):\n",
        "    with zipfile.ZipFile(zip_path, 'r') as zip_ref:\n",
        "        zip_ref.extractall(extract_dir)\n",
        "\n",
        "print(\"✅ UTKFace dataset extracted successfully!\")"
      ]
    },
    {
      "cell_type": "code",
      "source": [
        "from google.colab import drive\n",
        "drive.mount('/content/drive')"
      ],
      "metadata": {
        "id": "dzZUB1IkgJRi"
      },
      "execution_count": null,
      "outputs": []
    },
    {
      "cell_type": "code",
      "source": [
        "import os\n",
        "import shutil\n",
        "\n",
        "# Define source and target directories\n",
        "src_dir = \"/content/UTKFace/UTKFace\"  # Change this if your dataset is elsewhere\n",
        "male_dir = \"/content/dataset/male\"\n",
        "female_dir = \"/content/dataset/female\"\n",
        "\n",
        "# Ensure target directories exist\n",
        "os.makedirs(male_dir, exist_ok=True)\n",
        "os.makedirs(female_dir, exist_ok=True)\n",
        "\n",
        "# Move images to correct folders\n",
        "for file in os.listdir(src_dir):\n",
        "    if file.endswith(\".jpg\"):\n",
        "        parts = file.split(\"_\")\n",
        "        if len(parts) >= 2:  # Ensure filename has enough parts\n",
        "            gender = parts[1]  # Gender is the second element\n",
        "\n",
        "            src_path = os.path.join(src_dir, file)\n",
        "            if gender == \"0\":  # FIXED: 0 is MALE\n",
        "                shutil.move(src_path, os.path.join(male_dir, file))\n",
        "            elif gender == \"1\":  # FIXED: 1 is FEMALE\n",
        "                shutil.move(src_path, os.path.join(female_dir, file))\n",
        "\n",
        "print(\"✅ Images sorted CORRECTLY into 'male' and 'female' folders!\")"
      ],
      "metadata": {
        "id": "5bbf_zQ0gNwR"
      },
      "execution_count": null,
      "outputs": []
    },
    {
      "cell_type": "code",
      "source": [
        "!ls /content/dataset/male | wc -l  # Count male images\n",
        "!ls /content/dataset/female | wc -l  # Count female images"
      ],
      "metadata": {
        "id": "KYTXo8JKgOqc"
      },
      "execution_count": null,
      "outputs": []
    },
    {
      "cell_type": "code",
      "source": [
        "import tensorflow as tf\n",
        "from tensorflow import keras\n",
        "from tensorflow.keras import layers\n",
        "import matplotlib.pyplot as plt\n",
        "import numpy as np\n",
        "import os"
      ],
      "metadata": {
        "id": "3ORrnNUggRKR"
      },
      "execution_count": null,
      "outputs": []
    },
    {
      "cell_type": "code",
      "source": [
        "from tensorflow.keras.preprocessing.image import ImageDataGenerator\n",
        "\n",
        "# Define dataset path\n",
        "dataset_dir = \"/content/dataset\"\n",
        "\n",
        "# Image Data Generator for training and validation\n",
        "datagen = ImageDataGenerator(\n",
        "    rescale=1.0 / 255,  # Normalize pixel values (0-255 → 0-1)\n",
        "    validation_split=0.2  # 80% training, 20% validation\n",
        ")\n",
        "\n",
        "# Load training data\n",
        "train_data = datagen.flow_from_directory(\n",
        "    dataset_dir,\n",
        "    target_size=(128, 128),  # Resize images\n",
        "    batch_size=32,\n",
        "    class_mode=\"binary\",\n",
        "    subset=\"training\"\n",
        ")\n",
        "\n",
        "# Load validation data\n",
        "val_data = datagen.flow_from_directory(\n",
        "    dataset_dir,\n",
        "    target_size=(128, 128),\n",
        "    batch_size=32,\n",
        "    class_mode=\"binary\",\n",
        "    subset=\"validation\"\n",
        ")"
      ],
      "metadata": {
        "id": "6vqY4OMkgUsj"
      },
      "execution_count": null,
      "outputs": []
    },
    {
      "cell_type": "code",
      "source": [
        "model = keras.Sequential([\n",
        "    layers.Conv2D(32, (3,3), activation=\"relu\", input_shape=(128, 128, 3)),\n",
        "    layers.MaxPooling2D(2,2),\n",
        "\n",
        "    layers.Conv2D(64, (3,3), activation=\"relu\"),\n",
        "    layers.MaxPooling2D(2,2),\n",
        "\n",
        "    layers.Conv2D(128, (3,3), activation=\"relu\"),\n",
        "    layers.MaxPooling2D(2,2),\n",
        "\n",
        "    layers.Flatten(),\n",
        "    layers.Dense(128, activation=\"relu\"),\n",
        "    layers.Dropout(0.5),  # Prevent overfitting\n",
        "    layers.Dense(1, activation=\"sigmoid\")  # Binary classification (0=Female, 1=Male)\n",
        "])\n",
        "\n",
        "model.compile(optimizer=\"adam\", loss=\"binary_crossentropy\", metrics=[\"accuracy\"])\n",
        "model.summary()"
      ],
      "metadata": {
        "id": "IlGbNcLegXP7"
      },
      "execution_count": null,
      "outputs": []
    },
    {
      "cell_type": "code",
      "source": [
        "history = model.fit(train_data, validation_data=val_data, epochs=10)"
      ],
      "metadata": {
        "id": "4hHleQsPgaC1"
      },
      "execution_count": null,
      "outputs": []
    },
    {
      "cell_type": "code",
      "source": [
        "plt.plot(history.history[\"accuracy\"], label=\"Train Accuracy\")\n",
        "plt.plot(history.history[\"val_accuracy\"], label=\"Validation Accuracy\")\n",
        "plt.legend()\n",
        "plt.show()"
      ],
      "metadata": {
        "id": "JPa2n5yngeQb"
      },
      "execution_count": null,
      "outputs": []
    },
    {
      "cell_type": "code",
      "source": [
        "model.save(\"/content/gender_model_diversifai.h5\")\n",
        "print(\"✅ Model saved successfully!\")"
      ],
      "metadata": {
        "id": "uzsuyz_wggxl"
      },
      "execution_count": null,
      "outputs": []
    },
    {
      "cell_type": "code",
      "source": [
        "from tensorflow.keras.preprocessing import image\n",
        "import numpy as np\n",
        "import matplotlib.pyplot as plt\n",
        "\n",
        "# Load and preprocess an image\n",
        "img_path = \"/content/TestPics/example8.jpg\"  # Change this to any test image path\n",
        "img = image.load_img(img_path, target_size=(128, 128))\n",
        "\n",
        "# Convert image to array for prediction\n",
        "img_array = image.img_to_array(img) / 255.0\n",
        "img_array = np.expand_dims(img_array, axis=0)\n",
        "\n",
        "# Predict gender\n",
        "prediction = model.predict(img_array)[0][0]\n",
        "gender = \"Male\" if prediction > 0.5 else \"Female\"\n",
        "\n",
        "# Display the image with prediction\n",
        "plt.imshow(img)\n",
        "plt.axis(\"off\")  # Hide axes\n",
        "plt.title(f\"Predicted Gender: {gender}\", fontsize=14, color=\"red\")  # Show prediction in title\n",
        "plt.show()\n",
        "\n",
        "print(f\"Predicted Gender: {gender}\")"
      ],
      "metadata": {
        "id": "iGk_5VhKgjVz"
      },
      "execution_count": null,
      "outputs": []
    },
    {
      "cell_type": "code",
      "source": [
        "import cv2\n",
        "from tensorflow.keras.preprocessing import image\n",
        "import numpy as np\n",
        "import matplotlib.pyplot as plt\n",
        "\n",
        "# Load pre-trained face detector (Haar Cascade)\n",
        "face_cascade = cv2.CascadeClassifier(cv2.data.haarcascades + 'haarcascade_frontalface_default.xml')\n",
        "\n",
        "# Load the image\n",
        "img_path = \"/content/Test1/Img9.jpg\"\n",
        "img = cv2.imread(img_path)\n",
        "gray = cv2.cvtColor(img, cv2.COLOR_BGR2GRAY)\n",
        "\n",
        "# Detect faces\n",
        "faces = face_cascade.detectMultiScale(gray, scaleFactor=1.1, minNeighbors=5, minSize=(30, 30))\n",
        "\n",
        "# Loop through detected faces\n",
        "for (x, y, w, h) in faces:\n",
        "    face = img[y:y+h, x:x+w]  # Crop face region\n",
        "    face = cv2.resize(face, (128, 128))  # Resize for model input\n",
        "    face_array = image.img_to_array(face) / 255.0\n",
        "    face_array = np.expand_dims(face_array, axis=0)\n",
        "\n",
        "    # Predict gender\n",
        "    prediction = model.predict(face_array)[0][0]\n",
        "    gender = \"Male\" if prediction > 0.5 else \"Female\"\n",
        "\n",
        "    # Draw bounding box & label\n",
        "    color = (0, 255, 0) if gender == \"Male\" else (255, 0, 0)  # Green for Male, Blue for Female\n",
        "    cv2.rectangle(img, (x, y), (x + w, y + h), color, 2)\n",
        "    cv2.putText(img, gender, (x, y - 10), cv2.FONT_HERSHEY_SIMPLEX, 0.8, color, 2)\n",
        "\n",
        "# Display the result\n",
        "plt.imshow(cv2.cvtColor(img, cv2.COLOR_BGR2RGB))\n",
        "plt.axis(\"off\")\n",
        "plt.title(\"Gender Prediction for Multiple People\", fontsize=14, color=\"red\")\n",
        "plt.show()"
      ],
      "metadata": {
        "id": "UGX2f9QXgmGT"
      },
      "execution_count": null,
      "outputs": []
    },
    {
      "cell_type": "code",
      "source": [
        "import cv2\n",
        "import numpy as np\n",
        "import matplotlib.pyplot as plt\n",
        "from tensorflow.keras.models import load_model\n",
        "from tensorflow.keras.preprocessing import image\n",
        "\n",
        "# Load pre-trained face detector (Haar Cascade)\n",
        "face_cascade = cv2.CascadeClassifier(cv2.data.haarcascades + 'haarcascade_frontalface_default.xml')\n",
        "\n",
        "# Load the gender prediction model (replace with your model path)\n",
        "model = load_model('/content/gender_model_diversifai.h5')  # Ensure you have a trained model\n",
        "\n",
        "# Load the image\n",
        "img_path = \"/content/Test1/Img7.jpg\"\n",
        "img = cv2.imread(img_path)\n",
        "gray = cv2.cvtColor(img, cv2.COLOR_BGR2GRAY)\n",
        "\n",
        "# Detect faces with optimized parameters\n",
        "faces = face_cascade.detectMultiScale(gray, scaleFactor=1.1, minNeighbors=8, minSize=(60, 60))\n",
        "\n",
        "# Ensure at least one face is detected\n",
        "if len(faces) == 0:\n",
        "    print(\"No faces detected.\")\n",
        "else:\n",
        "    for (x, y, w, h) in faces:\n",
        "        # Extract only the face region\n",
        "        face = img[y:y+h, x:x+w]\n",
        "\n",
        "        # Convert to RGB and resize for model input\n",
        "        face = cv2.cvtColor(face, cv2.COLOR_BGR2RGB)\n",
        "        face = cv2.resize(face, (128, 128))\n",
        "\n",
        "        # Normalize and expand dimensions for prediction\n",
        "        face_array = image.img_to_array(face) / 255.0\n",
        "        face_array = np.expand_dims(face_array, axis=0)\n",
        "\n",
        "        # Predict gender\n",
        "        prediction = model.predict(face_array)[0][0]\n",
        "        gender = \"Male\" if prediction > 0.5 else \"Female\"\n",
        "\n",
        "        # Draw bounding box & label\n",
        "        color = (0, 255, 0) if gender == \"Male\" else (255, 0, 0)  # Green for Male, Blue for Female\n",
        "        cv2.rectangle(img, (x, y), (x + w, y + h), color, 2)\n",
        "        cv2.putText(img, gender, (x, y - 10), cv2.FONT_HERSHEY_SIMPLEX, 0.8, color, 2)\n",
        "\n",
        "# Display the result\n",
        "plt.figure(figsize=(8, 6))\n",
        "plt.imshow(cv2.cvtColor(img, cv2.COLOR_BGR2RGB))\n",
        "plt.axis(\"off\")\n",
        "plt.title(\"Face Detection with Gender Prediction\", fontsize=14, color=\"red\")\n",
        "plt.show()"
      ],
      "metadata": {
        "id": "8hG6i4IdgrAl"
      },
      "execution_count": null,
      "outputs": []
    },
    {
      "cell_type": "code",
      "source": [
        "import cv2\n",
        "import numpy as np\n",
        "import matplotlib.pyplot as plt\n",
        "from tensorflow.keras.models import load_model\n",
        "from tensorflow.keras.preprocessing import image\n",
        "\n",
        "# Load a more accurate Haar Cascade for face detection\n",
        "face_cascade = cv2.CascadeClassifier(cv2.data.haarcascades + 'haarcascade_frontalface_alt2.xml')\n",
        "\n",
        "# Load the gender prediction model\n",
        "model = load_model('/content/gender_model_diversifai.h5')\n",
        "\n",
        "# Load and preprocess image\n",
        "img_path = \"/content/TestPics/WhatsApp Image 2025-02-12 at 10.33.04 AM.jpeg\"\n",
        "img = cv2.imread(img_path)\n",
        "gray = cv2.cvtColor(img, cv2.COLOR_BGR2GRAY)\n",
        "\n",
        "# Apply CLAHE (Adaptive Histogram Equalization) to enhance face details\n",
        "clahe = cv2.createCLAHE(clipLimit=2.0, tileGridSize=(8, 8))\n",
        "gray = clahe.apply(gray)\n",
        "\n",
        "# Detect faces with optimized parameters\n",
        "faces = face_cascade.detectMultiScale(gray, scaleFactor=1.1, minNeighbors=10, minSize=(80, 80))\n",
        "\n",
        "# Ensure at least one face is detected\n",
        "if len(faces) == 0:\n",
        "    print(\"No faces detected.\")\n",
        "else:\n",
        "    for (x, y, w, h) in faces:\n",
        "        # Additional filter: Ignore non-square faces (likely false positives)\n",
        "        if w / h < 0.75 or w / h > 1.3:\n",
        "            continue\n",
        "\n",
        "        # Extract only the face region\n",
        "        face = img[y:y+h, x:x+w]\n",
        "\n",
        "        # Convert to RGB (ensure model compatibility)\n",
        "        face = cv2.cvtColor(face, cv2.COLOR_BGR2RGB)\n",
        "\n",
        "        # Resize for model input (ensure correct dimensions)\n",
        "        face = cv2.resize(face, (128, 128))\n",
        "\n",
        "        # Normalize properly based on model expectations\n",
        "        face_array = image.img_to_array(face) / 255.0  # Ensure it's between 0-1\n",
        "        face_array = np.expand_dims(face_array, axis=0)  # Add batch dimension\n",
        "\n",
        "        # Predict gender\n",
        "        prediction = model.predict(face_array)[0][0]\n",
        "        gender = \"Male\" if prediction > 0.5 else \"Female\"\n",
        "\n",
        "        # Draw bounding box & label\n",
        "        color = (0, 255, 0) if gender == \"Male\" else (255, 0, 0)  # Green for Male, Blue for Female\n",
        "        cv2.rectangle(img, (x, y), (x + w, y + h), color, 2)\n",
        "        cv2.putText(img, gender, (x, y - 10), cv2.FONT_HERSHEY_SIMPLEX, 0.8, color, 2)\n",
        "\n",
        "# Display the result\n",
        "plt.figure(figsize=(8, 6))\n",
        "plt.imshow(cv2.cvtColor(img, cv2.COLOR_BGR2RGB))\n",
        "plt.axis(\"off\")\n",
        "plt.title(\"Face Detection with Gender Prediction\", fontsize=14, color=\"red\")\n",
        "plt.show()"
      ],
      "metadata": {
        "id": "QAmtfbOvgw_U"
      },
      "execution_count": null,
      "outputs": []
    }
  ]
}